{
  "nbformat": 4,
  "nbformat_minor": 0,
  "metadata": {
    "colab": {
      "provenance": [],
      "include_colab_link": true
    },
    "kernelspec": {
      "name": "python3",
      "display_name": "Python 3"
    },
    "language_info": {
      "name": "python"
    }
  },
  "cells": [
    {
      "cell_type": "markdown",
      "metadata": {
        "id": "view-in-github",
        "colab_type": "text"
      },
      "source": [
        "<a href=\"https://colab.research.google.com/github/MiltonJairV/talento-tech/blob/main/1entrenamiento/calculadora_v2_Plus.ipynb\" target=\"_parent\"><img src=\"https://colab.research.google.com/assets/colab-badge.svg\" alt=\"Open In Colab\"/></a>"
      ]
    },
    {
      "cell_type": "markdown",
      "source": [
        "#**Calculadora Sencilla \"Plus\" con funciones**"
      ],
      "metadata": {
        "id": "GNkEfYQO4ji5"
      }
    },
    {
      "cell_type": "code",
      "source": [
        "#In []:\n",
        "  #importar la biblioteca de matemáticas de python:\n",
        "import math\n",
        "\n",
        "  #Definición de las funciones:\n",
        "def mostrar_titulo():\n",
        "    '''\n",
        "    input: no hay entradas\n",
        "    process: mostrar titulo (esta implicito en el nombre de la función, se suguiere un verbo)\n",
        "    output: no hay salidas\n",
        "    '''\n",
        "    print('Ejemplo Calculadora Sencilla (+,-,*,/) v2 Milton Jair Valencia: ')\n",
        "\n",
        "def mostrar_menu():\n",
        "    '''\n",
        "    input: no recibe nada (0 entradas)\n",
        "    process: mostrar menu\n",
        "    output: no retorna nada (0 salida)\n",
        "    '''\n",
        "    print()\n",
        "    print(\"MENU: \")\n",
        "    print(\"1.  Suma (+)\")\n",
        "    print(\"2.  Restar (-)\")\n",
        "    print(\"3.  Multiplicar (*)\")\n",
        "    print(\"4.  Dividir (/)\")\n",
        "    print(\"5.  Potenciación (**)\")\n",
        "    print(\"6.  Radicación (rad)\")\n",
        "    print(\"7.  Logoritmo (log10)\")\n",
        "    print(\"8.  Seno (sen)\")\n",
        "    print(\"9.  Coseno (cos)\")\n",
        "    print(\"10. Tangente (tan)\")\n",
        "    print()\n",
        "\n",
        "def ingresar_datos():\n",
        "    '''\n",
        "    input: No hay entradas\n",
        "    process: ingresar datos (recibir/leer del usuario)\n",
        "    output: tres variables que contienen localmente las decisiones del usuario (opcion, numero1,numero2)'''\n",
        "    opcion=input(\"Ingrese la opción deseada del menú: \") # se guarda como cadena\n",
        "    numero1=float(input('Ingrese el primer número de la operación a realizar: '))#\n",
        "    numero2=float(input('Ingrese el segundo número de la operción: '))\n",
        "    return opcion,numero1, numero2\n",
        "\n",
        "  #Por facilidad, las 7 funciones tienen entrada y salida.\n",
        "def calcular_suma(numero1,numero2):\n",
        "     suma=numero1+numero2\n",
        "     return suma\n",
        "\n",
        "def calcular_resta(numero1,numero2):\n",
        "     return numero1-numero2\n",
        "\n",
        "def calcular_multiplicacion(numero1,numero2):\n",
        "     return numero1*numero2\n",
        "\n",
        "def calcular_division(numero1,numero2):\n",
        "     return numero1/numero2\n",
        "\n",
        "def calcular_potencia(numero1,numero2):\n",
        "     return numero1**numero2\n",
        "\n",
        "def calcular_radicacion(numero1, numero2) :\n",
        "     return numero1**(1/numero2)\n",
        "\n",
        "def calcular_logaritmo_base10(numero): # x=numero(uno,dos)\n",
        "     #utilizamos la función logaritmo que esta dentro de la libreria math\n",
        "     logaritmo =math.log10(numero) # x= numero\n",
        "     return logaritmo\n",
        "\n",
        "def calcular_seno(angulo_radianes): # x=numero (dos,uno)\n",
        "     #utilizamos la función seno que esta en la libreria math\n",
        "     seno=math.sin(angulo_radianes) #x = numero (angulo_radianes)\n",
        "     return seno\n",
        "\n",
        "def calcular_coseno(angulo_radianes): # x=numero (dos,uno)\n",
        "     #utilizamos la función coseno que esta en la libreria math\n",
        "     coseno=math.cos(angulo_radianes) #x = numero (angulo_radianes)\n",
        "     return coseno\n",
        "\n",
        "def calcular_tangente(angulo_radianes): # x=numero (dos,uno)\n",
        "     #utilizamos la función tangente que esta en la libreria math\n",
        "     tangente=math.tan(angulo_radianes)\n",
        "     return tangente\n",
        "\n",
        "def procesar_y_mostrar_operación(opcion,numero1,numero2):\n",
        "     '''\n",
        "     input:opcion, numero1, numero2\n",
        "     process: procesar y mostrar operacion (analizar las posibilidades para ejecutar la calculadora)\n",
        "     output: no retorna valor porque por dentro imprime por pantalla todo'''\n",
        "\n",
        "     if opcion=='1' or opcion=='+' or opcion=='sumar':\n",
        "       print(\"Sumaremos (+) los valores ingresados: \")\n",
        "       resultado=calcular_suma(numero1,numero2)\n",
        "       print(f'La suma de {numero1} más {numero2} es:', resultado)\n",
        "     if opcion=='2' or opcion=='-' or opcion=='restar':\n",
        "       print(\"Restaremos (-) los valores ingresados: \")\n",
        "       resultado=calcular_resta(numero1,numero2)\n",
        "       print(f'La resta de {numero1} menos {numero2} es:', resultado)\n",
        "     if opcion=='3' or opcion=='*' or opcion=='multiplicar':\n",
        "       print(\"Multiplicaremos (*) los valores ingresados: \")\n",
        "       resultado=calcular_multiplicacion(numero1,numero2)\n",
        "       print(f'La multiplicación de {numero1} por {numero2} es:', resultado)\n",
        "     if opcion=='4' or opcion=='/' or opcion=='dividir':\n",
        "       print(\"Dividiremos (/) los valores ingresados: \")\n",
        "       if numero2 !=0:\n",
        "         print('No se puede dividir por cero')\n",
        "         resultado=calcular_division(numero1,numero2)\n",
        "         print(f'La división de {numero1} entre {numero2} es:', resultado)\n",
        "       else:\n",
        "         print('No se puede dividir por cero!')\n",
        "     if opcion=='5' or opcion=='**' or opcion=='potencia':\n",
        "         print(\"Calculamos la potencia (**) del valor ingresado:\\n \")\n",
        "         resultado= calcular_potencia (numero1,numero2)\n",
        "         print(f' La potencia de {numero1} elevado a {numero2} es:', resultado)\n",
        "     if opcion=='6' or opcion=='rad' or opcion=='radicacion':\n",
        "         print(\"Calculamos la radicación (rad) del valor ingresado:\\n \")\n",
        "         resultado=calcular_radicacion(numero1,numero2)\n",
        "         print(f'La raiz {numero2} de {numero1} es: ', resultado)\n",
        "     if opcion=='7' or opcion=='logaritmo' or opcion=='log10':\n",
        "         print(\"Calculamos el logaritmo (log10) del valor ingresado:\\n \")\n",
        "         resultado1=calcular_logaritmo_base10(numero1)\n",
        "         resultado2=calcular_logaritmo_base10(numero2)\n",
        "         print(f'El logaritmo base 10 de {numero1} es:', resultado1)\n",
        "         print(f'El logaritmo base 10 de {numero2} es:', resultado2)\n",
        "     if opcion=='8' or opcion=='sen' or opcion=='seno':\n",
        "         print(\"Calculamos el seno (sen) del valor ingresado:\\n \")\n",
        "         resultado1=calcular_seno(numero1)\n",
        "         resultado2=calcular_seno(numero2)\n",
        "         print(f' El seno de {numero1}° es {resultado1}')\n",
        "         print(f' El seno de {numero2}° es {resultado2}')\n",
        "     if opcion=='9' or opcion=='cos' or opcion=='coseno':\n",
        "         print(\"Calculamos el coseno (cos) del valor ingresado:\\n \")\n",
        "         resultado1=calcular_coseno(numero1)\n",
        "         resultado2=calcular_coseno(numero2)\n",
        "         print(f' El coseno de {numero1}° es {resultado1}')\n",
        "         print(f' El coseno de {numero2}° es {resultado2}')\n",
        "\n",
        "     if opcion=='10' or opcion=='tan' or opcion=='tangente':\n",
        "         print(\"Calculamos la tangente (tan) del valor ingresado:\\n \")\n",
        "         resultado1=calcular_tangente(numero1)\n",
        "         resultado2=calcular_tangente(numero2)\n",
        "         print(f'La tangente de {numero1} es:', resultado1)\n",
        "         print(f'La tangente de {numero2} es:', resultado2)\n",
        "\n",
        "def llamar_funciones():\n",
        "        '''input: no hay entradas\n",
        "           process: llamar funciones (en orden: mostrar_tituolo, mostrar_menu, ingresar_datos, procesar y mostrar operaciones)\n",
        "           output: no hay salidas'''\n",
        "        mostrar_titulo()\n",
        "        mostrar_menu()\n",
        "        opcion,numero1,numero2=ingresar_datos()\n",
        "        procesar_y_mostrar_operación(opcion,numero1,numero2)\n",
        "\n",
        "#ejecucion del programa:\n",
        "llamar_funciones()"
      ],
      "metadata": {
        "id": "SFR8fnUz441J",
        "colab": {
          "base_uri": "https://localhost:8080/"
        },
        "outputId": "2fcf5acd-443d-43b1-f48c-8f15b4517364"
      },
      "execution_count": 48,
      "outputs": [
        {
          "output_type": "stream",
          "name": "stdout",
          "text": [
            "Ejemplo Calculadora Sencilla (+,-,*,/) v2 Milton Jair Valencia: \n",
            "\n",
            "MENU: \n",
            "1.  Suma (+)\n",
            "2.  Restar (-)\n",
            "3.  Multiplicar (*)\n",
            "4.  Dividir (/)\n",
            "5.  Potenciación (**)\n",
            "6.  Radicación (rad)\n",
            "7.  Logoritmo (log10)\n",
            "8.  Seno (sen)\n",
            "9.  Coseno (cos)\n",
            "10. Tangente (tan)\n",
            "\n",
            "Ingrese la opción deseada del menú: 9\n",
            "Ingrese el primer número de la operación a realizar: 30\n",
            "Ingrese el segundo número de la operción: 50\n",
            "Calculamos el coseno (cos) del valor ingresado:\n",
            " \n",
            " El coseno de 30.0° es 0.15425144988758405\n",
            " El coseno de 50.0° es 0.9649660284921133\n"
          ]
        }
      ]
    },
    {
      "cell_type": "code",
      "source": [
        "llamar_funciones()"
      ],
      "metadata": {
        "id": "mTLmTSf5VqgA",
        "outputId": "189f9dfb-2dbc-478b-ef2b-8a108baf0506",
        "colab": {
          "base_uri": "https://localhost:8080/"
        }
      },
      "execution_count": 13,
      "outputs": [
        {
          "output_type": "stream",
          "name": "stdout",
          "text": [
            "Ejemplo Calculadora Sencilla (+,-,*,/) v2 Milton Jair Valencia: \n",
            "\n",
            "MENU: \n",
            "1.  Suma (+)\n",
            "2.  Restar (-)\n",
            "3.  Multiplicar (*)\n",
            "4.  Dividir (/)\n",
            "5.  Potenciación (**)\n",
            "6.  Radicación (rad)\n",
            "7.  Logoritmo (log10)\n",
            "8.  Seno (sen)\n",
            "9.  Coseno (cos)\n",
            "10. Tangente (tan)\n",
            "\n",
            "Ingrese la opción deseada del menú: 2\n",
            "Ingrese el primer número de la operación a realizar: 100\n",
            "Ingrese el segundo número de la operción: -20\n",
            "Restaremos (-) los valores ingresados: \n",
            "La resta de 100.0 menos -20.0 es: 120.0\n"
          ]
        }
      ]
    },
    {
      "cell_type": "code",
      "source": [
        "llamar_funciones()"
      ],
      "metadata": {
        "id": "GbPV10_fV3dA",
        "outputId": "50fcd9da-37bc-4327-e92b-ead7ba913683",
        "colab": {
          "base_uri": "https://localhost:8080/"
        }
      },
      "execution_count": 14,
      "outputs": [
        {
          "output_type": "stream",
          "name": "stdout",
          "text": [
            "Ejemplo Calculadora Sencilla (+,-,*,/) v2 Milton Jair Valencia: \n",
            "\n",
            "MENU: \n",
            "1.  Suma (+)\n",
            "2.  Restar (-)\n",
            "3.  Multiplicar (*)\n",
            "4.  Dividir (/)\n",
            "5.  Potenciación (**)\n",
            "6.  Radicación (rad)\n",
            "7.  Logoritmo (log10)\n",
            "8.  Seno (sen)\n",
            "9.  Coseno (cos)\n",
            "10. Tangente (tan)\n",
            "\n",
            "Ingrese la opción deseada del menú: 3\n",
            "Ingrese el primer número de la operación a realizar: 45\n",
            "Ingrese el segundo número de la operción: 4\n",
            "Multiplicaremos (*) los valores ingresados: \n",
            "La multiplicación de 45.0 por 4.0 es: 180.0\n"
          ]
        }
      ]
    },
    {
      "cell_type": "code",
      "source": [
        "llamar_funciones()"
      ],
      "metadata": {
        "id": "dMOp1nFWV-1M",
        "outputId": "82b3a6d7-64f4-4342-c8d5-51b832a9de1b",
        "colab": {
          "base_uri": "https://localhost:8080/"
        }
      },
      "execution_count": 15,
      "outputs": [
        {
          "output_type": "stream",
          "name": "stdout",
          "text": [
            "Ejemplo Calculadora Sencilla (+,-,*,/) v2 Milton Jair Valencia: \n",
            "\n",
            "MENU: \n",
            "1.  Suma (+)\n",
            "2.  Restar (-)\n",
            "3.  Multiplicar (*)\n",
            "4.  Dividir (/)\n",
            "5.  Potenciación (**)\n",
            "6.  Radicación (rad)\n",
            "7.  Logoritmo (log10)\n",
            "8.  Seno (sen)\n",
            "9.  Coseno (cos)\n",
            "10. Tangente (tan)\n",
            "\n",
            "Ingrese la opción deseada del menú: 4\n",
            "Ingrese el primer número de la operación a realizar: 200\n",
            "Ingrese el segundo número de la operción: 5\n",
            "Dividiremos (/) los valores ingresados: \n",
            "No se puede dividir por cero\n",
            "La división de 200.0 entre 5.0 es: 40.0\n"
          ]
        }
      ]
    },
    {
      "cell_type": "code",
      "source": [
        "llamar_funciones()"
      ],
      "metadata": {
        "id": "YPnkFBzBWHS6",
        "outputId": "a10b69ba-9151-45f0-97c0-fb4c640e76f2",
        "colab": {
          "base_uri": "https://localhost:8080/"
        }
      },
      "execution_count": 16,
      "outputs": [
        {
          "output_type": "stream",
          "name": "stdout",
          "text": [
            "Ejemplo Calculadora Sencilla (+,-,*,/) v2 Milton Jair Valencia: \n",
            "\n",
            "MENU: \n",
            "1.  Suma (+)\n",
            "2.  Restar (-)\n",
            "3.  Multiplicar (*)\n",
            "4.  Dividir (/)\n",
            "5.  Potenciación (**)\n",
            "6.  Radicación (rad)\n",
            "7.  Logoritmo (log10)\n",
            "8.  Seno (sen)\n",
            "9.  Coseno (cos)\n",
            "10. Tangente (tan)\n",
            "\n",
            "Ingrese la opción deseada del menú: 5\n",
            "Ingrese el primer número de la operación a realizar: 10\n",
            "Ingrese el segundo número de la operción: 4\n",
            "Calculamos la potencia (**) del valor ingresado:\n",
            " \n",
            " La potencia de 10.0 elevado a 4.0 es: 10000.0\n"
          ]
        }
      ]
    },
    {
      "cell_type": "code",
      "source": [
        "llamar_funciones()"
      ],
      "metadata": {
        "id": "728SWwp_WSdC",
        "outputId": "063ebc50-0b09-4463-87e9-96c3a5a2428d",
        "colab": {
          "base_uri": "https://localhost:8080/"
        }
      },
      "execution_count": 21,
      "outputs": [
        {
          "output_type": "stream",
          "name": "stdout",
          "text": [
            "Ejemplo Calculadora Sencilla (+,-,*,/) v2 Milton Jair Valencia: \n",
            "\n",
            "MENU: \n",
            "1.  Suma (+)\n",
            "2.  Restar (-)\n",
            "3.  Multiplicar (*)\n",
            "4.  Dividir (/)\n",
            "5.  Potenciación (**)\n",
            "6.  Radicación (rad)\n",
            "7.  Logoritmo (log10)\n",
            "8.  Seno (sen)\n",
            "9.  Coseno (cos)\n",
            "10. Tangente (tan)\n",
            "\n",
            "Ingrese la opción deseada del menú: 6\n",
            "Ingrese el primer número de la operación a realizar: 3\n",
            "Ingrese el segundo número de la operción: 8\n",
            "Calculamos la radicación (rad) del valor ingresado:\n",
            " \n",
            "La raiz 8.0 de 3.0 es:  1.147202690439877\n"
          ]
        }
      ]
    },
    {
      "cell_type": "code",
      "source": [
        "llamar_funciones()"
      ],
      "metadata": {
        "id": "a6GIIX3jYMPf",
        "outputId": "5949faa6-495a-4bad-eb7b-fe89a5af6069",
        "colab": {
          "base_uri": "https://localhost:8080/"
        }
      },
      "execution_count": 26,
      "outputs": [
        {
          "output_type": "stream",
          "name": "stdout",
          "text": [
            "Ejemplo Calculadora Sencilla (+,-,*,/) v2 Milton Jair Valencia: \n",
            "\n",
            "MENU: \n",
            "1.  Suma (+)\n",
            "2.  Restar (-)\n",
            "3.  Multiplicar (*)\n",
            "4.  Dividir (/)\n",
            "5.  Potenciación (**)\n",
            "6.  Radicación (rad)\n",
            "7.  Logoritmo (log10)\n",
            "8.  Seno (sen)\n",
            "9.  Coseno (cos)\n",
            "10. Tangente (tan)\n",
            "\n",
            "Ingrese la opción deseada del menú: 7\n",
            "Ingrese el primer número de la operación a realizar: 100\n",
            "Ingrese el segundo número de la operción: 1000\n",
            "Calculamos el logaritmo (log10) del valor ingresado:\n",
            " \n",
            "El logaritmo base 10 de 100.0 es: 2.0\n",
            "El logaritmo base 10 de 1000.0 es: 3.0\n"
          ]
        }
      ]
    },
    {
      "cell_type": "code",
      "source": [
        "llamar_funciones()"
      ],
      "metadata": {
        "id": "4zNWer3VYMN4",
        "outputId": "92121237-d7ae-4d22-ae3a-be954eae0990",
        "colab": {
          "base_uri": "https://localhost:8080/"
        }
      },
      "execution_count": 29,
      "outputs": [
        {
          "output_type": "stream",
          "name": "stdout",
          "text": [
            "Ejemplo Calculadora Sencilla (+,-,*,/) v2 Milton Jair Valencia: \n",
            "\n",
            "MENU: \n",
            "1.  Suma (+)\n",
            "2.  Restar (-)\n",
            "3.  Multiplicar (*)\n",
            "4.  Dividir (/)\n",
            "5.  Potenciación (**)\n",
            "6.  Radicación (rad)\n",
            "7.  Logoritmo (log10)\n",
            "8.  Seno (sen)\n",
            "9.  Coseno (cos)\n",
            "10. Tangente (tan)\n",
            "\n",
            "Ingrese la opción deseada del menú: 8\n",
            "Ingrese el primer número de la operación a realizar: 10\n",
            "Ingrese el segundo número de la operción: 2\n",
            "Calculamos el seno (sen) del valor ingresado:\n",
            " \n",
            "El seno de 10.0 es: None\n",
            "El seno de 2.0 es: None\n"
          ]
        }
      ]
    }
  ]
}