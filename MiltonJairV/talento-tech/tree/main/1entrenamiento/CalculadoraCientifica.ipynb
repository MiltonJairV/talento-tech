{
  "nbformat": 4,
  "nbformat_minor": 0,
  "metadata": {
    "colab": {
      "provenance": [],
      "authorship_tag": "ABX9TyOZp+hAWfdnVGjR48pEqf9O",
      "include_colab_link": true
    },
    "kernelspec": {
      "name": "python3",
      "display_name": "Python 3"
    },
    "language_info": {
      "name": "python"
    }
  },
  "cells": [
    {
      "cell_type": "markdown",
      "metadata": {
        "id": "view-in-github",
        "colab_type": "text"
      },
      "source": [
        "<a href=\"https://colab.research.google.com/github/MiltonJairV/talento-tech/blob/main/MiltonJairV/talento-tech/tree/main/1entrenamiento/CalculadoraCientifica.ipynb\" target=\"_parent\"><img src=\"https://colab.research.google.com/assets/colab-badge.svg\" alt=\"Open In Colab\"/></a>"
      ]
    },
    {
      "cell_type": "code",
      "source": [],
      "metadata": {
        "id": "SCOgUcHF8QQI"
      },
      "execution_count": null,
      "outputs": []
    },
    {
      "cell_type": "markdown",
      "source": [
        "#**CALCULADORA BÁSICA CON FUNCIONES TRIGONOMETRICAS**"
      ],
      "metadata": {
        "id": "SQfNlmMG8ie-"
      }
    },
    {
      "cell_type": "code",
      "source": [
        "\n",
        "import math\n",
        "\n",
        "print (\"Calculadora Básica v1\")\n",
        "print()\n",
        "\n",
        "print (\"**MENU:**\")\n",
        "print(\"1:  sumar (+)\")\n",
        "print(\"2:  Restar (-)\")\n",
        "print(\"3:  Multiplicar (*)\")\n",
        "print(\"4:  Dividir (/)\")\n",
        "print(\"5:  Potenciación (**)\")\n",
        "print(\"6:  Radicación (rad)\")\n",
        "print(\"7:  Logaritmo (log10)\")\n",
        "print(\"8:  Seno (seno)\")\n",
        "print(\"9:  Coseno (cos)\")\n",
        "print(\"10: Tangente (tan)\")\n",
        "print()\n",
        "\n",
        "opcion=input(\"Ingrese la operación deseada del menu: \")\n",
        "numero1=float(input('Ingrese el primero número de la operación: '))\n",
        "numero2=float(input('Ingrese el segundo número de la operación: '))\n",
        "\n",
        "if opcion=='1':\n",
        "  print(\"sumaremos (+) los dos valores ingresados: \")\n",
        "  print(f'{numero1 } + { numero2 } = {numero1+numero2}')\n",
        "\n",
        "if opcion=='2':\n",
        "  print(\"La Resta (-) de los dos valores ingresados: \")\n",
        "  print(f'{numero1 } - {numero2} = {numero1-numero2}')\n",
        "\n",
        "if opcion=='3':\n",
        "  print('La multiplicación (*) de lo dos valores ingresados es: \\n')\n",
        "  print(f'{numero1} * {numero2} = {numero1*numero2}')\n",
        "\n",
        "if opcion=='4':\n",
        "  print(\"La División (/) de los dos valores ingresados es: \\n\")\n",
        "  if numero2 !=0:\n",
        "    print(f'{numero1 } / {numero2} = {numero1/numero2}')\n",
        "  else:\n",
        "    print(\"No es posible dividir entre 0!\")\n",
        "\n",
        "if opcion=='5':\n",
        "  print(f'{numero1} elevado a la {numero2} = {numero1**numero2}' )\n",
        "\n",
        "if opcion=='6':\n",
        " def raiz (numero2, numero1):\n",
        "  return pow(numero2, 1/numero1)\n",
        " print(f' La raiz {numero1} de {numero2} = {raiz (numero2, numero1)}')\n",
        "\n",
        "if opcion=='7':\n",
        "  print(\"Vamos a calcular el logaritmo (log10) de los valores ingresados: \")\n",
        "  logaritmo1=math.log10(numero1)\n",
        "  logaritmo2=math.log10(numero2)\n",
        "\n",
        "  print(f' El logaritmo de {numero1} = {logaritmo1}')\n",
        "  print(f' El logaritmo de {numero2} = {logaritmo2}')\n",
        "\n",
        "if opcion=='8':\n",
        "  angulo_radianes1= numero1*3.1415926535/180\n",
        "  angulo_radianes2=numero2*3.1415926535/180\n",
        "  seno1=math.sin (angulo_radianes1)\n",
        "  seno2=math.sin (angulo_radianes2)\n",
        "  print(f' {numero1}° = {angulo_radianes1} radianes, y el seno es {seno1}')\n",
        "  print(f' {numero2}° = {angulo_radianes2} radianes, y el seno es {seno2}')\n",
        "\n",
        "if opcion=='9':\n",
        "  angulo_radianes1= numero1*3.1415926535/180\n",
        "  angulo_radianes2= numero2*3.1415926535/180\n",
        "  coseno1=math.cos (angulo_radianes1)\n",
        "  coseno2=math.cos (angulo_radianes2)\n",
        "  print(f' {numero1}° = {angulo_radianes1} radianes, y el coseno es {coseno1}')\n",
        "  print(f' {numero2}° = {angulo_radianes2} radianes, y el coseno es {coseno2}')\n",
        "\n",
        "if opcion=='10':\n",
        "  angulo_radianes1= numero1*3.1415926535/180\n",
        "  angulo_radianes2= numero2*3.1415926535/180\n",
        "  tangente1=math.tan (angulo)\n",
        "\n",
        "\n",
        "\n",
        "\n",
        "\n"
      ],
      "metadata": {
        "colab": {
          "base_uri": "https://localhost:8080/"
        },
        "id": "nNkmEMWi8nXe",
        "outputId": "37fd3e5a-59c9-4a91-c48f-2edd36a346d2"
      },
      "execution_count": null,
      "outputs": [
        {
          "output_type": "stream",
          "name": "stdout",
          "text": [
            "Calculadora Básica v1\n",
            "\n",
            "**MENU:**\n",
            "1: sumar (+)\n",
            "2: Restar (-)\n",
            "3: Multiplicar (*)\n",
            "4: Dividir (/)\n",
            "5: Potenciación (**)\n",
            "6: Radicación (rad)\n",
            "7: Logaritmo (log10)\n",
            "8: Seno (seno)\n",
            "9: Coseno (cos)\n",
            "10: Tangente (tan)\n",
            "\n",
            "Ingrese la operación deseada del menu: 8\n",
            "Ingrese el primero número de la operación: 10\n",
            "Ingrese el segundo número de la operación: 100\n",
            " 10.0° = 0.17453292519444444 radianes, y el seno es 0.17364817766201762\n",
            " 100.0° = 1.7453292519444443 radianes, y el seno es 0.9848077530208705\n"
          ]
        }
      ]
    },
    {
      "cell_type": "markdown",
      "source": [],
      "metadata": {
        "id": "Py3R_xur8OoG"
      }
    },
    {
      "cell_type": "code",
      "execution_count": null,
      "metadata": {
        "id": "stI-I_d3pRV3"
      },
      "outputs": [],
      "source": []
    }
  ]
}